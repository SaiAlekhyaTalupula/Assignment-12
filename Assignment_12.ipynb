{
  "nbformat": 4,
  "nbformat_minor": 0,
  "metadata": {
    "colab": {
      "name": "Assignment 12.ipynb",
      "provenance": []
    },
    "kernelspec": {
      "name": "python3",
      "display_name": "Python 3"
    }
  },
  "cells": [
    {
      "cell_type": "markdown",
      "metadata": {
        "id": "Tsv6_knoHvUk",
        "colab_type": "text"
      },
      "source": [
        "# Assignment 12"
      ]
    },
    {
      "cell_type": "markdown",
      "metadata": {
        "id": "Qx-WlV0_H0bK",
        "colab_type": "text"
      },
      "source": [
        "## 1.sum all the items in a dictionary"
      ]
    },
    {
      "cell_type": "code",
      "metadata": {
        "id": "7rp9Abd2HzIT",
        "colab_type": "code",
        "colab": {
          "base_uri": "https://localhost:8080/",
          "height": 35
        },
        "outputId": "9a330a4c-1a44-448e-f3bd-5444649857e3"
      },
      "source": [
        "dict = {'a': 1, 'b':2, 'c':3}\n",
        "sum = 0\n",
        "for i in dict:\n",
        "  sum+= dict[i]  \n",
        "print(\"Sum :\",sum) "
      ],
      "execution_count": 12,
      "outputs": [
        {
          "output_type": "stream",
          "text": [
            "Sum : 6\n"
          ],
          "name": "stdout"
        }
      ]
    },
    {
      "cell_type": "markdown",
      "metadata": {
        "id": "OlzZzfclI5EM",
        "colab_type": "text"
      },
      "source": [
        "## 2.Accessing an elements from a dictionary"
      ]
    },
    {
      "cell_type": "code",
      "metadata": {
        "id": "VsiozEKKIyAP",
        "colab_type": "code",
        "colab": {
          "base_uri": "https://localhost:8080/",
          "height": 72
        },
        "outputId": "41c9edb4-d1ce-4539-9cd0-bfe8edb1fa72"
      },
      "source": [
        "d={'a':4,'b':1,'c':3,'d':5,'e':0}\n",
        "print(d['d'])\n",
        "print(d)\n",
        "d['f']=4\n",
        "print(d)"
      ],
      "execution_count": 13,
      "outputs": [
        {
          "output_type": "stream",
          "text": [
            "5\n",
            "{'a': 4, 'b': 1, 'c': 3, 'd': 5, 'e': 0}\n",
            "{'a': 4, 'b': 1, 'c': 3, 'd': 5, 'e': 0, 'f': 4}\n"
          ],
          "name": "stdout"
        }
      ]
    },
    {
      "cell_type": "markdown",
      "metadata": {
        "id": "mVafsN7mKSL_",
        "colab_type": "text"
      },
      "source": [
        "## 3.Concate two dictionaries"
      ]
    },
    {
      "cell_type": "code",
      "metadata": {
        "id": "uZ1b-mGnJvir",
        "colab_type": "code",
        "colab": {
          "base_uri": "https://localhost:8080/",
          "height": 54
        },
        "outputId": "96922b1e-9cdd-4ad2-c990-2b88f2be453b"
      },
      "source": [
        "d1={'a':34,'b':24}\n",
        "d2={'c':0,'d':1,'e':3}\n",
        "d2.update(d1)\n",
        "print(\"Concate dictionary is:\")\n",
        "print(d2)"
      ],
      "execution_count": 16,
      "outputs": [
        {
          "output_type": "stream",
          "text": [
            "Concate dictionary is:\n",
            "{'c': 0, 'd': 1, 'e': 3, 'a': 34, 'b': 24}\n"
          ],
          "name": "stdout"
        }
      ]
    },
    {
      "cell_type": "markdown",
      "metadata": {
        "id": "q8uabcg-aUqW",
        "colab_type": "text"
      },
      "source": [
        "## 4.Add keys/values in a dictionary"
      ]
    },
    {
      "cell_type": "code",
      "metadata": {
        "id": "FLzaV3ByadIs",
        "colab_type": "code",
        "colab": {
          "base_uri": "https://localhost:8080/",
          "height": 35
        },
        "outputId": "9cb55385-2433-42f1-e212-c1796f7b294e"
      },
      "source": [
        "d={'a':4,'b':1,'c':3,'d':5,'e':0}\n",
        "d['3']=0\n",
        "d['a']='r'\n",
        "print(d)"
      ],
      "execution_count": 17,
      "outputs": [
        {
          "output_type": "stream",
          "text": [
            "{'a': 'r', 'b': 1, 'c': 3, 'd': 5, 'e': 0, '3': 0}\n"
          ],
          "name": "stdout"
        }
      ]
    },
    {
      "cell_type": "markdown",
      "metadata": {
        "id": "QLc4clPdYR_V",
        "colab_type": "text"
      },
      "source": [
        "## 5.The length of the dictionary"
      ]
    },
    {
      "cell_type": "code",
      "metadata": {
        "id": "HUm9gYlTUxEV",
        "colab_type": "code",
        "colab": {
          "base_uri": "https://localhost:8080/",
          "height": 35
        },
        "outputId": "53f177cf-3bb2-46f4-9725-057a2d183e19"
      },
      "source": [
        "d={'a':4,'b':1,'c':3,'d':5,'e':0}\n",
        "print(len(d))"
      ],
      "execution_count": 18,
      "outputs": [
        {
          "output_type": "stream",
          "text": [
            "5\n"
          ],
          "name": "stdout"
        }
      ]
    },
    {
      "cell_type": "markdown",
      "metadata": {
        "id": "HGQj7vtyaIOg",
        "colab_type": "text"
      },
      "source": [
        "## 6.Remove items in the dictionary"
      ]
    },
    {
      "cell_type": "code",
      "metadata": {
        "id": "2Ea69tKUaEIa",
        "colab_type": "code",
        "colab": {
          "base_uri": "https://localhost:8080/",
          "height": 35
        },
        "outputId": "b8f7311d-00fa-4dda-d006-e8a8a3f2c4e7"
      },
      "source": [
        "d={'a':4,'b':1,'c':3,'d':5,'e':0}\n",
        "d.pop('e')\n",
        "print(d)"
      ],
      "execution_count": 19,
      "outputs": [
        {
          "output_type": "stream",
          "text": [
            "{'a': 4, 'b': 1, 'c': 3, 'd': 5}\n"
          ],
          "name": "stdout"
        }
      ]
    }
  ]
}